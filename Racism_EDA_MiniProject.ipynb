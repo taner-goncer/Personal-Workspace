{
 "cells": [
  {
   "cell_type": "markdown",
   "metadata": {},
   "source": [
    "# Examining Racial Discrimination in the US Job Market\n",
    "\n",
    "### Background\n",
    "Racial discrimination continues to be pervasive in cultures throughout the world. Researchers examined the level of racial discrimination in the United States labor market by randomly assigning identical résumés to black-sounding or white-sounding names and observing the impact on requests for interviews from employers.\n",
    "\n",
    "### Data\n",
    "In the dataset provided, each row represents a resume. The 'race' column has two values, 'b' and 'w', indicating black-sounding and white-sounding. The column 'call' has two values, 1 and 0, indicating whether the resume received a call from employers or not.\n",
    "\n",
    "Note that the 'b' and 'w' values in race are assigned randomly to the resumes when presented to the employer."
   ]
  },
  {
   "cell_type": "markdown",
   "metadata": {},
   "source": [
    "### Exercises\n",
    "You will perform a statistical analysis to establish whether race has a significant impact on the rate of callbacks for resumes.\n",
    "\n",
    "Answer the following questions **in this notebook below and submit to your Github account**. \n",
    "\n",
    "   1. What test is appropriate for this problem? Does CLT apply?\n",
    "   2. What are the null and alternate hypotheses?\n",
    "   3. Compute margin of error, confidence interval, and p-value.\n",
    "   4. Write a story describing the statistical significance in the context or the original problem.\n",
    "   5. Does your analysis mean that race/name is the most important factor in callback success? Why or why not? If not, how would you amend your analysis?\n",
    "\n",
    "You can include written notes in notebook cells using Markdown: \n",
    "   - In the control panel at the top, choose Cell > Cell Type > Markdown\n",
    "   - Markdown syntax: http://nestacms.com/docs/creating-content/markdown-cheat-sheet\n",
    "\n",
    "\n",
    "#### Resources\n",
    "+ Experiment information and data source: http://www.povertyactionlab.org/evaluation/discrimination-job-market-united-states\n",
    "+ Scipy statistical methods: http://docs.scipy.org/doc/scipy/reference/stats.html \n",
    "+ Markdown syntax: http://nestacms.com/docs/creating-content/markdown-cheat-sheet\n",
    "****"
   ]
  },
  {
   "cell_type": "code",
   "execution_count": 1,
   "metadata": {
    "collapsed": true
   },
   "outputs": [],
   "source": [
    "import pandas as pd\n",
    "import numpy as np\n",
    "from scipy import stats"
   ]
  },
  {
   "cell_type": "code",
   "execution_count": 2,
   "metadata": {
    "collapsed": true
   },
   "outputs": [],
   "source": [
    "data = pd.io.stata.read_stata('data/us_job_market_discrimination.dta')"
   ]
  },
  {
   "cell_type": "code",
   "execution_count": 3,
   "metadata": {},
   "outputs": [
    {
     "name": "stdout",
     "output_type": "stream",
     "text": [
      "157.0\n",
      "235.0\n"
     ]
    }
   ],
   "source": [
    "# number of callbacks for black-sounding names\n",
    "print(sum(data[data.race=='b'].call))\n",
    "# number of callbacks for white-sounding names\n",
    "print(sum(data[data.race=='w'].call))"
   ]
  },
  {
   "cell_type": "code",
   "execution_count": 4,
   "metadata": {},
   "outputs": [
    {
     "data": {
      "text/html": [
       "<div>\n",
       "<style>\n",
       "    .dataframe thead tr:only-child th {\n",
       "        text-align: right;\n",
       "    }\n",
       "\n",
       "    .dataframe thead th {\n",
       "        text-align: left;\n",
       "    }\n",
       "\n",
       "    .dataframe tbody tr th {\n",
       "        vertical-align: top;\n",
       "    }\n",
       "</style>\n",
       "<table border=\"1\" class=\"dataframe\">\n",
       "  <thead>\n",
       "    <tr style=\"text-align: right;\">\n",
       "      <th></th>\n",
       "      <th>id</th>\n",
       "      <th>ad</th>\n",
       "      <th>education</th>\n",
       "      <th>ofjobs</th>\n",
       "      <th>yearsexp</th>\n",
       "      <th>honors</th>\n",
       "      <th>volunteer</th>\n",
       "      <th>military</th>\n",
       "      <th>empholes</th>\n",
       "      <th>occupspecific</th>\n",
       "      <th>...</th>\n",
       "      <th>compreq</th>\n",
       "      <th>orgreq</th>\n",
       "      <th>manuf</th>\n",
       "      <th>transcom</th>\n",
       "      <th>bankreal</th>\n",
       "      <th>trade</th>\n",
       "      <th>busservice</th>\n",
       "      <th>othservice</th>\n",
       "      <th>missind</th>\n",
       "      <th>ownership</th>\n",
       "    </tr>\n",
       "  </thead>\n",
       "  <tbody>\n",
       "    <tr>\n",
       "      <th>0</th>\n",
       "      <td>b</td>\n",
       "      <td>1</td>\n",
       "      <td>4</td>\n",
       "      <td>2</td>\n",
       "      <td>6</td>\n",
       "      <td>0</td>\n",
       "      <td>0</td>\n",
       "      <td>0</td>\n",
       "      <td>1</td>\n",
       "      <td>17</td>\n",
       "      <td>...</td>\n",
       "      <td>1.0</td>\n",
       "      <td>0.0</td>\n",
       "      <td>1.0</td>\n",
       "      <td>0.0</td>\n",
       "      <td>0.0</td>\n",
       "      <td>0.0</td>\n",
       "      <td>0.0</td>\n",
       "      <td>0.0</td>\n",
       "      <td>0.0</td>\n",
       "      <td></td>\n",
       "    </tr>\n",
       "    <tr>\n",
       "      <th>1</th>\n",
       "      <td>b</td>\n",
       "      <td>1</td>\n",
       "      <td>3</td>\n",
       "      <td>3</td>\n",
       "      <td>6</td>\n",
       "      <td>0</td>\n",
       "      <td>1</td>\n",
       "      <td>1</td>\n",
       "      <td>0</td>\n",
       "      <td>316</td>\n",
       "      <td>...</td>\n",
       "      <td>1.0</td>\n",
       "      <td>0.0</td>\n",
       "      <td>1.0</td>\n",
       "      <td>0.0</td>\n",
       "      <td>0.0</td>\n",
       "      <td>0.0</td>\n",
       "      <td>0.0</td>\n",
       "      <td>0.0</td>\n",
       "      <td>0.0</td>\n",
       "      <td></td>\n",
       "    </tr>\n",
       "    <tr>\n",
       "      <th>2</th>\n",
       "      <td>b</td>\n",
       "      <td>1</td>\n",
       "      <td>4</td>\n",
       "      <td>1</td>\n",
       "      <td>6</td>\n",
       "      <td>0</td>\n",
       "      <td>0</td>\n",
       "      <td>0</td>\n",
       "      <td>0</td>\n",
       "      <td>19</td>\n",
       "      <td>...</td>\n",
       "      <td>1.0</td>\n",
       "      <td>0.0</td>\n",
       "      <td>1.0</td>\n",
       "      <td>0.0</td>\n",
       "      <td>0.0</td>\n",
       "      <td>0.0</td>\n",
       "      <td>0.0</td>\n",
       "      <td>0.0</td>\n",
       "      <td>0.0</td>\n",
       "      <td></td>\n",
       "    </tr>\n",
       "    <tr>\n",
       "      <th>3</th>\n",
       "      <td>b</td>\n",
       "      <td>1</td>\n",
       "      <td>3</td>\n",
       "      <td>4</td>\n",
       "      <td>6</td>\n",
       "      <td>0</td>\n",
       "      <td>1</td>\n",
       "      <td>0</td>\n",
       "      <td>1</td>\n",
       "      <td>313</td>\n",
       "      <td>...</td>\n",
       "      <td>1.0</td>\n",
       "      <td>0.0</td>\n",
       "      <td>1.0</td>\n",
       "      <td>0.0</td>\n",
       "      <td>0.0</td>\n",
       "      <td>0.0</td>\n",
       "      <td>0.0</td>\n",
       "      <td>0.0</td>\n",
       "      <td>0.0</td>\n",
       "      <td></td>\n",
       "    </tr>\n",
       "    <tr>\n",
       "      <th>4</th>\n",
       "      <td>b</td>\n",
       "      <td>1</td>\n",
       "      <td>3</td>\n",
       "      <td>3</td>\n",
       "      <td>22</td>\n",
       "      <td>0</td>\n",
       "      <td>0</td>\n",
       "      <td>0</td>\n",
       "      <td>0</td>\n",
       "      <td>313</td>\n",
       "      <td>...</td>\n",
       "      <td>1.0</td>\n",
       "      <td>1.0</td>\n",
       "      <td>0.0</td>\n",
       "      <td>0.0</td>\n",
       "      <td>0.0</td>\n",
       "      <td>0.0</td>\n",
       "      <td>0.0</td>\n",
       "      <td>1.0</td>\n",
       "      <td>0.0</td>\n",
       "      <td>Nonprofit</td>\n",
       "    </tr>\n",
       "  </tbody>\n",
       "</table>\n",
       "<p>5 rows × 65 columns</p>\n",
       "</div>"
      ],
      "text/plain": [
       "  id ad  education  ofjobs  yearsexp  honors  volunteer  military  empholes  \\\n",
       "0  b  1          4       2         6       0          0         0         1   \n",
       "1  b  1          3       3         6       0          1         1         0   \n",
       "2  b  1          4       1         6       0          0         0         0   \n",
       "3  b  1          3       4         6       0          1         0         1   \n",
       "4  b  1          3       3        22       0          0         0         0   \n",
       "\n",
       "   occupspecific    ...      compreq  orgreq  manuf  transcom  bankreal trade  \\\n",
       "0             17    ...          1.0     0.0    1.0       0.0       0.0   0.0   \n",
       "1            316    ...          1.0     0.0    1.0       0.0       0.0   0.0   \n",
       "2             19    ...          1.0     0.0    1.0       0.0       0.0   0.0   \n",
       "3            313    ...          1.0     0.0    1.0       0.0       0.0   0.0   \n",
       "4            313    ...          1.0     1.0    0.0       0.0       0.0   0.0   \n",
       "\n",
       "  busservice othservice  missind  ownership  \n",
       "0        0.0        0.0      0.0             \n",
       "1        0.0        0.0      0.0             \n",
       "2        0.0        0.0      0.0             \n",
       "3        0.0        0.0      0.0             \n",
       "4        0.0        1.0      0.0  Nonprofit  \n",
       "\n",
       "[5 rows x 65 columns]"
      ]
     },
     "execution_count": 4,
     "metadata": {},
     "output_type": "execute_result"
    }
   ],
   "source": [
    "data.head()\n",
    "#we can see here that the resume is quantified into column categories such as \"years of experience\" \"volunteer\" \"military\", \n",
    "#etc... but we are not here to determine what factors influence callback rates except whether the name they used on the\n",
    "#resume sounds black or white."
   ]
  },
  {
   "cell_type": "markdown",
   "metadata": {
    "collapsed": true
   },
   "source": [
    "# Question 1\n",
    "What test is appropriate for this problem? Does CLT apply?"
   ]
  },
  {
   "cell_type": "markdown",
   "metadata": {},
   "source": [
    "The appropriate test for this situation is a 2-proportion-z-test.\n",
    "\n",
    "Also, the CLT applies because 1) the number of samples is far greater than 30 and 2) they are independent of each other just like how different people sending in different resumes in real life is an independent process with no event influencing the outcome of the next event's success. The employer has a criteria and the resume either meets their criteria or not, not to be influenced by the resume before, or to influence the resume after. "
   ]
  },
  {
   "cell_type": "markdown",
   "metadata": {},
   "source": [
    "# Question 2\n",
    "What are the null and alternate hypotheses?"
   ]
  },
  {
   "cell_type": "markdown",
   "metadata": {},
   "source": [
    "The Null Hypothesis: Race does not have a significant effect on the rate of callback for resumes. Or, in other words, and for this case study specifically: \n",
    "\n",
    "H0: The proportion of callback for resumes with 'names that sound black' is equal to the proportion of callback for resumes with 'names that sound white.'\n",
    "\n",
    "The Alternate Hypothesis: Race does have a significant effect on the rate of callback for resumes. Or, in other words: \n",
    "\n",
    "H1: The proportion of callback for resumes with 'names that sound black' is NOT equal to the proportion of callback for resumes with 'names that sound white.'"
   ]
  },
  {
   "cell_type": "markdown",
   "metadata": {},
   "source": [
    "# Question 3\n",
    "Compute margin of error, confidence interval, and p-value."
   ]
  },
  {
   "cell_type": "code",
   "execution_count": 5,
   "metadata": {
    "scrolled": true
   },
   "outputs": [
    {
     "name": "stdout",
     "output_type": "stream",
     "text": [
      "0       b\n",
      "1       b\n",
      "2       b\n",
      "3       b\n",
      "4       b\n",
      "5       b\n",
      "6       b\n",
      "7       b\n",
      "8       b\n",
      "9       b\n",
      "10      b\n",
      "11      b\n",
      "12      b\n",
      "13      b\n",
      "14      b\n",
      "15      b\n",
      "16      b\n",
      "17      b\n",
      "18      b\n",
      "19      b\n",
      "20      b\n",
      "21      b\n",
      "22      b\n",
      "23      b\n",
      "24      b\n",
      "25      b\n",
      "26      b\n",
      "27      b\n",
      "28      b\n",
      "29      b\n",
      "       ..\n",
      "4840    a\n",
      "4841    a\n",
      "4842    b\n",
      "4843    b\n",
      "4844    b\n",
      "4845    b\n",
      "4846    a\n",
      "4847    a\n",
      "4848    a\n",
      "4849    a\n",
      "4850    b\n",
      "4851    b\n",
      "4852    b\n",
      "4853    b\n",
      "4854    a\n",
      "4855    a\n",
      "4856    a\n",
      "4857    a\n",
      "4858    a\n",
      "4859    a\n",
      "4860    a\n",
      "4861    a\n",
      "4862    b\n",
      "4863    b\n",
      "4864    b\n",
      "4865    b\n",
      "4866    a\n",
      "4867    a\n",
      "4868    a\n",
      "4869    a\n",
      "Name: id, Length: 4870, dtype: object\n",
      "(4870, 65)\n",
      "Index(['id', 'ad', 'education', 'ofjobs', 'yearsexp', 'honors', 'volunteer',\n",
      "       'military', 'empholes', 'occupspecific', 'occupbroad', 'workinschool',\n",
      "       'email', 'computerskills', 'specialskills', 'firstname', 'sex', 'race',\n",
      "       'h', 'l', 'call', 'city', 'kind', 'adid', 'fracblack', 'fracwhite',\n",
      "       'lmedhhinc', 'fracdropout', 'fraccolp', 'linc', 'col', 'expminreq',\n",
      "       'schoolreq', 'eoe', 'parent_sales', 'parent_emp', 'branch_sales',\n",
      "       'branch_emp', 'fed', 'fracblack_empzip', 'fracwhite_empzip',\n",
      "       'lmedhhinc_empzip', 'fracdropout_empzip', 'fraccolp_empzip',\n",
      "       'linc_empzip', 'manager', 'supervisor', 'secretary', 'offsupport',\n",
      "       'salesrep', 'retailsales', 'req', 'expreq', 'comreq', 'educreq',\n",
      "       'compreq', 'orgreq', 'manuf', 'transcom', 'bankreal', 'trade',\n",
      "       'busservice', 'othservice', 'missind', 'ownership'],\n",
      "      dtype='object')\n"
     ]
    }
   ],
   "source": [
    "#PERFORMING QUANTITATIVE EDA \n",
    "print(data['id'])\n",
    "print(data.shape)\n",
    "print(data.columns)"
   ]
  },
  {
   "cell_type": "code",
   "execution_count": 6,
   "metadata": {
    "scrolled": true
   },
   "outputs": [
    {
     "name": "stdout",
     "output_type": "stream",
     "text": [
      "0       w\n",
      "1       w\n",
      "2       b\n",
      "3       b\n",
      "4       w\n",
      "5       w\n",
      "6       w\n",
      "7       b\n",
      "8       b\n",
      "9       b\n",
      "10      b\n",
      "11      w\n",
      "12      b\n",
      "13      w\n",
      "14      b\n",
      "15      w\n",
      "16      w\n",
      "17      b\n",
      "18      w\n",
      "19      b\n",
      "20      b\n",
      "21      w\n",
      "22      w\n",
      "23      w\n",
      "24      w\n",
      "25      b\n",
      "26      b\n",
      "27      w\n",
      "28      b\n",
      "29      b\n",
      "       ..\n",
      "4840    b\n",
      "4841    b\n",
      "4842    b\n",
      "4843    w\n",
      "4844    b\n",
      "4845    w\n",
      "4846    w\n",
      "4847    w\n",
      "4848    b\n",
      "4849    b\n",
      "4850    b\n",
      "4851    w\n",
      "4852    w\n",
      "4853    b\n",
      "4854    w\n",
      "4855    w\n",
      "4856    b\n",
      "4857    b\n",
      "4858    b\n",
      "4859    b\n",
      "4860    w\n",
      "4861    w\n",
      "4862    w\n",
      "4863    w\n",
      "4864    b\n",
      "4865    b\n",
      "4866    b\n",
      "4867    w\n",
      "4868    b\n",
      "4869    w\n",
      "Name: race, Length: 4870, dtype: object\n"
     ]
    }
   ],
   "source": [
    "#we are only interested in the 'race' and 'call' columns for this particular experiment\n",
    "print(data['race'])"
   ]
  },
  {
   "cell_type": "code",
   "execution_count": 22,
   "metadata": {},
   "outputs": [
    {
     "name": "stdout",
     "output_type": "stream",
     "text": [
      "2435\n",
      "2435\n",
      "235.0\n",
      "157.0\n",
      "White proportion of callbacks: 0.0965092402464 Black proportion of callbacks: 0.064476386037\n",
      "The pooled proportion is: 0.0804928131417\n"
     ]
    }
   ],
   "source": [
    "resume_white = data[data.race == 'w']\n",
    "total_white = resume_white.shape[0]\n",
    "resume_black = data[data.race == 'b']\n",
    "total_black = resume_black.shape[0]\n",
    "\n",
    "print(total_white)\n",
    "print(total_black)\n",
    "\n",
    "white_call = sum(data[data.race == 'w'].call)\n",
    "print(white_call)\n",
    "black_call = sum(data[data.race == 'b'].call)\n",
    "print(black_call)\n",
    "\n",
    "white_proportion = white_call/total_white\n",
    "black_proportion = black_call/total_black\n",
    "pool_proportion = (white_call + black_call)/(total_white + total_black)\n",
    "print('White proportion of callbacks: ' + str(white_proportion) + ' Black proportion of callbacks: ' + str(black_proportion))\n",
    "print('The pooled proportion is: ' + str(pool_proportion))"
   ]
  },
  {
   "cell_type": "code",
   "execution_count": 9,
   "metadata": {},
   "outputs": [
    {
     "name": "stdout",
     "output_type": "stream",
     "text": [
      "Mean of white callback rate: 0.09650924056768417, STD of white callback: 0.29528486728668213\n",
      "Mean of black callback rate: 0.0644763857126236, STD of black callback: 0.24559901654720306\n"
     ]
    }
   ],
   "source": [
    "white_mean = np.mean(resume_white.call)\n",
    "white_std = np.std(resume_white.call)\n",
    "print('Mean of white callback rate: ' + str(white_mean) + \", STD of white callback: \" + str(white_std))\n",
    "black_mean = np.mean(resume_black.call)\n",
    "black_std = np.std(resume_black.call)\n",
    "print('Mean of black callback rate: ' + str(black_mean) + \", STD of black callback: \" + str(black_std))"
   ]
  },
  {
   "cell_type": "code",
   "execution_count": 10,
   "metadata": {},
   "outputs": [
    {
     "name": "stdout",
     "output_type": "stream",
     "text": [
      "The margin of error is: 0.0152552843854\n"
     ]
    }
   ],
   "source": [
    "#Using an alpha of 0.05, and being a two-tailed, two-sample test, we can compute the margin of error by first calculating:\n",
    "#the pooled standard deviation between the two samples\n",
    "pooled_std = np.sqrt( ((2435 - 1)*white_std**2 + (2435 - 1)*black_std**2) / (2435 + 2435 -2)  )    \n",
    "MoE = 1.96 * pooled_std * np.sqrt(1/2435 + 1/2435)\n",
    "print('The margin of error is: ' + str(MoE))"
   ]
  },
  {
   "cell_type": "code",
   "execution_count": 11,
   "metadata": {},
   "outputs": [
    {
     "name": "stdout",
     "output_type": "stream",
     "text": [
      "The confidence interval is: (0.0167775704696,0.0472881392405)\n"
     ]
    }
   ],
   "source": [
    "#the confidence interval is calculated as the difference of the means + or - the margin of error:\n",
    "confidence_lb = (white_mean - black_mean) - MoE\n",
    "confidence_ub = (white_mean - black_mean) + MoE\n",
    "print('The confidence interval is: (' + str(confidence_lb) + ',' + str(confidence_ub) + ')')"
   ]
  },
  {
   "cell_type": "code",
   "execution_count": 31,
   "metadata": {},
   "outputs": [
    {
     "name": "stdout",
     "output_type": "stream",
     "text": [
      "The z-value is: 4.11558342208\n"
     ]
    }
   ],
   "source": [
    "#the p value is calculated as follows:\n",
    "z_val = (white_mean - black_mean)/np.sqrt((white_std**2)/total_white + (black_std**2)/total_black)\n",
    "print('The z-value is: ' + str(p_val))"
   ]
  },
  {
   "cell_type": "code",
   "execution_count": 23,
   "metadata": {},
   "outputs": [
    {
     "name": "stdout",
     "output_type": "stream",
     "text": [
      "The margin of error is : 0.0152819123109\n"
     ]
    }
   ],
   "source": [
    "#margin of error for 2 proportions calculation:\n",
    "proportion_MoE = 1.96* np.sqrt(pool_proportion*(1-pool_proportion)*(1/total_white + 1/total_black))\n",
    "print('The margin of error is : ' + str(proportion_MoE))\n",
    "#note that this is very close but not identical to the 2 sample z test done above"
   ]
  },
  {
   "cell_type": "code",
   "execution_count": 24,
   "metadata": {},
   "outputs": [
    {
     "name": "stdout",
     "output_type": "stream",
     "text": [
      "The confidence interval is: (0.0167509418986,0.0473147665203)\n"
     ]
    }
   ],
   "source": [
    "#confidence interval calculation for 2 proportions test:\n",
    "prop_conf_lb = (white_proportion - black_proportion) - proportion_MoE\n",
    "prop_conf_ub = (white_proportion - black_proportion) + proportion_MoE\n",
    "print('The confidence interval is: (' + str(prop_conf_lb) + ',' + str(prop_conf_ub) + ')')\n",
    "#note that this too is close but not identical to the 2 sample z test calculation. "
   ]
  },
  {
   "cell_type": "code",
   "execution_count": 25,
   "metadata": {},
   "outputs": [
    {
     "name": "stdout",
     "output_type": "stream",
     "text": [
      "The z-value of the 2 proportion test is: 4.10841215243\n"
     ]
    }
   ],
   "source": [
    "#finally, to check the z-value using the 2 proportion z test\n",
    "prop_z_val = (white_proportion - black_proportion)/ np.sqrt(pool_proportion*(1-pool_proportion)*(1/total_white + 1/total_black))\n",
    "print('The z-value of the 2 proportion test is: ' + str(prop_z_val))"
   ]
  },
  {
   "cell_type": "code",
   "execution_count": 33,
   "metadata": {},
   "outputs": [
    {
     "name": "stdout",
     "output_type": "stream",
     "text": [
      "2 sample z-test p-val: 3.86201280197e-05\n",
      "2 proportion z-test p-val: 3.98388683759e-05\n"
     ]
    }
   ],
   "source": [
    "#p-value calculation\n",
    "from scipy.stats import norm\n",
    "p_value_2sample = scipy.stats.norm.sf(abs(z_val))*2\n",
    "p_value_2props = scipy.stats.norm.sf(abs(prop_z_val))*2\n",
    "print('2 sample z-test p-val: ' + str(p_value_2sample))\n",
    "print('2 proportion z-test p-val: ' + str(p_value_2props))"
   ]
  },
  {
   "cell_type": "markdown",
   "metadata": {},
   "source": [
    "# Question 4 Write a story describing the statistical significance in the context or the original problem.\n",
    "We ran the calculations using two tests: 2 proportion z-test and 2 sample z test. They were very slightly different, and yielded nearly identical results. However, in this case, the 2 proportion z test is the appropriate one to use. The final conclusion is:\n",
    "\n",
    "Confidence Interval: (0.0167509418986,0.0473147665203) we are 95% sure that there is a 1.675% to 4.731% significant difference between white and black call back success rates. Keep in mind, the black mean callback was only 6.45% and the white was 9.65%, so this confidence interval represents significant change. In the worst case, for black applicants, 6.45% - 4.731% is 1.719%, which is a dramatic -73.35% change. At best, the percent change from 6.45% to 4.775% is a - 26% change. So the practical confidence interval we are observing with this data set is that: \"We are 95% that the difference between being black and being white attributes to a reduced chance of receiving a callback by 26% to 73.35% for black applicants.\n",
    "\n",
    "Z-Value and P-Test: The z-value was calculated as 4.108, which greatly exceeds the critical z-value of 1.96. Practically speaking, we can see that this shows a deviation from the mean of the normal distribution of the Null Hypothesis that the observed difference between black and white callback success rates is equal to 4.108 standard deviations. The chance for that to happen is .003984%, which is extremely unlikely and therefore we can reject the null hypothesis under 95% certainty. Unfortunately, this data supports the claim that there are significant signs of racial prejudice by hiring managers. Perhaps this is because they are reading the applications behind a computer screen, and not face to face with their applicant. It is very easy to say \"No\" to an applicant, and that means that even something as simple as having a \"black sounding name\" can be enough to trigger a racial bias within the hiring manager resulting in turning down the application. "
   ]
  },
  {
   "cell_type": "markdown",
   "metadata": {},
   "source": [
    "# Question 5: Does your analysis mean that race/name is the most important factor in callback success? Why or why not? If not, how would you amend your analysis?"
   ]
  },
  {
   "cell_type": "markdown",
   "metadata": {},
   "source": [
    "My analysis does not mean that race/name is the most important factor in callback success because there are also many other factors at play. For example, a \"black sounding name\" on a resume with a PhD has undoubtedly drastically increased qualifications over a resume with a bachelor's. I believe that first, the qualifications must be met, then the race may play a factor once there are two or more applicants who are similar in qualifications (assuming a racist hiring manager). If the qualifications are handily met by an applicant, race would probably not play a big role in their hiring besides in cases of extreme racism. I would like to see an analysis breaking down regionally where the \"black name resumes\" were declined most significantly on a heat map. That would add a layer of depth to explore the root of the racial discrimination within our nation. \n",
    "\n",
    "Another amendment to the analysis could be to use pictures instead of names (as explained above in Q4). It would be very interesting to see if showing applicant pictures, revealing their race, would have similar results as using different sounding names."
   ]
  }
 ],
 "metadata": {
  "kernelspec": {
   "display_name": "Python 3",
   "language": "python",
   "name": "python3"
  },
  "language_info": {
   "codemirror_mode": {
    "name": "ipython",
    "version": 3
   },
   "file_extension": ".py",
   "mimetype": "text/x-python",
   "name": "python",
   "nbconvert_exporter": "python",
   "pygments_lexer": "ipython3",
   "version": "3.6.3"
  }
 },
 "nbformat": 4,
 "nbformat_minor": 1
}
