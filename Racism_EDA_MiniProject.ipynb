{
 "cells": [
  {
   "cell_type": "markdown",
   "metadata": {},
   "source": [
    "# Examining Racial Discrimination in the US Job Market\n",
    "\n",
    "### Background\n",
    "Racial discrimination continues to be pervasive in cultures throughout the world. Researchers examined the level of racial discrimination in the United States labor market by randomly assigning identical résumés to black-sounding or white-sounding names and observing the impact on requests for interviews from employers.\n",
    "\n",
    "### Data\n",
    "In the dataset provided, each row represents a resume. The 'race' column has two values, 'b' and 'w', indicating black-sounding and white-sounding. The column 'call' has two values, 1 and 0, indicating whether the resume received a call from employers or not.\n",
    "\n",
    "Note that the 'b' and 'w' values in race are assigned randomly to the resumes when presented to the employer."
   ]
  },
  {
   "cell_type": "markdown",
   "metadata": {},
   "source": [
    "### Exercises\n",
    "You will perform a statistical analysis to establish whether race has a significant impact on the rate of callbacks for resumes.\n",
    "\n",
    "Answer the following questions **in this notebook below and submit to your Github account**. \n",
    "\n",
    "   1. What test is appropriate for this problem? Does CLT apply?\n",
    "   2. What are the null and alternate hypotheses?\n",
    "   3. Compute margin of error, confidence interval, and p-value.\n",
    "   4. Write a story describing the statistical significance in the context or the original problem.\n",
    "   5. Does your analysis mean that race/name is the most important factor in callback success? Why or why not? If not, how would you amend your analysis?\n",
    "\n",
    "You can include written notes in notebook cells using Markdown: \n",
    "   - In the control panel at the top, choose Cell > Cell Type > Markdown\n",
    "   - Markdown syntax: http://nestacms.com/docs/creating-content/markdown-cheat-sheet\n",
    "\n",
    "\n",
    "#### Resources\n",
    "+ Experiment information and data source: http://www.povertyactionlab.org/evaluation/discrimination-job-market-united-states\n",
    "+ Scipy statistical methods: http://docs.scipy.org/doc/scipy/reference/stats.html \n",
    "+ Markdown syntax: http://nestacms.com/docs/creating-content/markdown-cheat-sheet\n",
    "****"
   ]
  },
  {
   "cell_type": "code",
   "execution_count": 1,
   "metadata": {
    "collapsed": true
   },
   "outputs": [],
   "source": [
    "import pandas as pd\n",
    "import numpy as np\n",
    "import scipy"
   ]
  },
  {
   "cell_type": "code",
   "execution_count": 2,
   "metadata": {
    "collapsed": true
   },
   "outputs": [],
   "source": [
    "data = pd.io.stata.read_stata('data/us_job_market_discrimination.dta')"
   ]
  },
  {
   "cell_type": "code",
   "execution_count": 3,
   "metadata": {},
   "outputs": [
    {
     "name": "stdout",
     "output_type": "stream",
     "text": [
      "157.0\n",
      "235.0\n"
     ]
    }
   ],
   "source": [
    "# number of callbacks for black-sounding names\n",
    "print(sum(data[data.race=='b'].call))\n",
    "# number of callbacks for white-sounding names\n",
    "print(sum(data[data.race=='w'].call))"
   ]
  },
  {
   "cell_type": "code",
   "execution_count": 4,
   "metadata": {},
   "outputs": [
    {
     "data": {
      "text/html": [
       "<div>\n",
       "<style>\n",
       "    .dataframe thead tr:only-child th {\n",
       "        text-align: right;\n",
       "    }\n",
       "\n",
       "    .dataframe thead th {\n",
       "        text-align: left;\n",
       "    }\n",
       "\n",
       "    .dataframe tbody tr th {\n",
       "        vertical-align: top;\n",
       "    }\n",
       "</style>\n",
       "<table border=\"1\" class=\"dataframe\">\n",
       "  <thead>\n",
       "    <tr style=\"text-align: right;\">\n",
       "      <th></th>\n",
       "      <th>id</th>\n",
       "      <th>ad</th>\n",
       "      <th>education</th>\n",
       "      <th>ofjobs</th>\n",
       "      <th>yearsexp</th>\n",
       "      <th>honors</th>\n",
       "      <th>volunteer</th>\n",
       "      <th>military</th>\n",
       "      <th>empholes</th>\n",
       "      <th>occupspecific</th>\n",
       "      <th>...</th>\n",
       "      <th>compreq</th>\n",
       "      <th>orgreq</th>\n",
       "      <th>manuf</th>\n",
       "      <th>transcom</th>\n",
       "      <th>bankreal</th>\n",
       "      <th>trade</th>\n",
       "      <th>busservice</th>\n",
       "      <th>othservice</th>\n",
       "      <th>missind</th>\n",
       "      <th>ownership</th>\n",
       "    </tr>\n",
       "  </thead>\n",
       "  <tbody>\n",
       "    <tr>\n",
       "      <th>0</th>\n",
       "      <td>b</td>\n",
       "      <td>1</td>\n",
       "      <td>4</td>\n",
       "      <td>2</td>\n",
       "      <td>6</td>\n",
       "      <td>0</td>\n",
       "      <td>0</td>\n",
       "      <td>0</td>\n",
       "      <td>1</td>\n",
       "      <td>17</td>\n",
       "      <td>...</td>\n",
       "      <td>1.0</td>\n",
       "      <td>0.0</td>\n",
       "      <td>1.0</td>\n",
       "      <td>0.0</td>\n",
       "      <td>0.0</td>\n",
       "      <td>0.0</td>\n",
       "      <td>0.0</td>\n",
       "      <td>0.0</td>\n",
       "      <td>0.0</td>\n",
       "      <td></td>\n",
       "    </tr>\n",
       "    <tr>\n",
       "      <th>1</th>\n",
       "      <td>b</td>\n",
       "      <td>1</td>\n",
       "      <td>3</td>\n",
       "      <td>3</td>\n",
       "      <td>6</td>\n",
       "      <td>0</td>\n",
       "      <td>1</td>\n",
       "      <td>1</td>\n",
       "      <td>0</td>\n",
       "      <td>316</td>\n",
       "      <td>...</td>\n",
       "      <td>1.0</td>\n",
       "      <td>0.0</td>\n",
       "      <td>1.0</td>\n",
       "      <td>0.0</td>\n",
       "      <td>0.0</td>\n",
       "      <td>0.0</td>\n",
       "      <td>0.0</td>\n",
       "      <td>0.0</td>\n",
       "      <td>0.0</td>\n",
       "      <td></td>\n",
       "    </tr>\n",
       "    <tr>\n",
       "      <th>2</th>\n",
       "      <td>b</td>\n",
       "      <td>1</td>\n",
       "      <td>4</td>\n",
       "      <td>1</td>\n",
       "      <td>6</td>\n",
       "      <td>0</td>\n",
       "      <td>0</td>\n",
       "      <td>0</td>\n",
       "      <td>0</td>\n",
       "      <td>19</td>\n",
       "      <td>...</td>\n",
       "      <td>1.0</td>\n",
       "      <td>0.0</td>\n",
       "      <td>1.0</td>\n",
       "      <td>0.0</td>\n",
       "      <td>0.0</td>\n",
       "      <td>0.0</td>\n",
       "      <td>0.0</td>\n",
       "      <td>0.0</td>\n",
       "      <td>0.0</td>\n",
       "      <td></td>\n",
       "    </tr>\n",
       "    <tr>\n",
       "      <th>3</th>\n",
       "      <td>b</td>\n",
       "      <td>1</td>\n",
       "      <td>3</td>\n",
       "      <td>4</td>\n",
       "      <td>6</td>\n",
       "      <td>0</td>\n",
       "      <td>1</td>\n",
       "      <td>0</td>\n",
       "      <td>1</td>\n",
       "      <td>313</td>\n",
       "      <td>...</td>\n",
       "      <td>1.0</td>\n",
       "      <td>0.0</td>\n",
       "      <td>1.0</td>\n",
       "      <td>0.0</td>\n",
       "      <td>0.0</td>\n",
       "      <td>0.0</td>\n",
       "      <td>0.0</td>\n",
       "      <td>0.0</td>\n",
       "      <td>0.0</td>\n",
       "      <td></td>\n",
       "    </tr>\n",
       "    <tr>\n",
       "      <th>4</th>\n",
       "      <td>b</td>\n",
       "      <td>1</td>\n",
       "      <td>3</td>\n",
       "      <td>3</td>\n",
       "      <td>22</td>\n",
       "      <td>0</td>\n",
       "      <td>0</td>\n",
       "      <td>0</td>\n",
       "      <td>0</td>\n",
       "      <td>313</td>\n",
       "      <td>...</td>\n",
       "      <td>1.0</td>\n",
       "      <td>1.0</td>\n",
       "      <td>0.0</td>\n",
       "      <td>0.0</td>\n",
       "      <td>0.0</td>\n",
       "      <td>0.0</td>\n",
       "      <td>0.0</td>\n",
       "      <td>1.0</td>\n",
       "      <td>0.0</td>\n",
       "      <td>Nonprofit</td>\n",
       "    </tr>\n",
       "  </tbody>\n",
       "</table>\n",
       "<p>5 rows × 65 columns</p>\n",
       "</div>"
      ],
      "text/plain": [
       "  id ad  education  ofjobs  yearsexp  honors  volunteer  military  empholes  \\\n",
       "0  b  1          4       2         6       0          0         0         1   \n",
       "1  b  1          3       3         6       0          1         1         0   \n",
       "2  b  1          4       1         6       0          0         0         0   \n",
       "3  b  1          3       4         6       0          1         0         1   \n",
       "4  b  1          3       3        22       0          0         0         0   \n",
       "\n",
       "   occupspecific    ...      compreq  orgreq  manuf  transcom  bankreal trade  \\\n",
       "0             17    ...          1.0     0.0    1.0       0.0       0.0   0.0   \n",
       "1            316    ...          1.0     0.0    1.0       0.0       0.0   0.0   \n",
       "2             19    ...          1.0     0.0    1.0       0.0       0.0   0.0   \n",
       "3            313    ...          1.0     0.0    1.0       0.0       0.0   0.0   \n",
       "4            313    ...          1.0     1.0    0.0       0.0       0.0   0.0   \n",
       "\n",
       "  busservice othservice  missind  ownership  \n",
       "0        0.0        0.0      0.0             \n",
       "1        0.0        0.0      0.0             \n",
       "2        0.0        0.0      0.0             \n",
       "3        0.0        0.0      0.0             \n",
       "4        0.0        1.0      0.0  Nonprofit  \n",
       "\n",
       "[5 rows x 65 columns]"
      ]
     },
     "execution_count": 4,
     "metadata": {},
     "output_type": "execute_result"
    }
   ],
   "source": [
    "data.head()\n",
    "#we can see here that the resume is quantified into column categories such as \"years of experience\" \"volunteer\" \"military\", \n",
    "#etc... but we are not here to determine what factors influence callback rates except whether the name they used on the\n",
    "#resume sounds black or white."
   ]
  },
  {
   "cell_type": "markdown",
   "metadata": {
    "collapsed": true
   },
   "source": [
    "# Question 1\n",
    "__What test is appropriate for this problem? Does CLT apply?__"
   ]
  },
  {
   "cell_type": "markdown",
   "metadata": {},
   "source": [
    "The appropriate test for this situation is a 2-proportion-z-test.\n",
    "\n",
    "Also, the CLT applies because 1) the number of samples is far greater than 30 and 2) they are independent of each other just like how different people sending in different resumes in real life is an independent process with no event influencing the outcome of the next event's success. The employer has a criteria and the resume either meets their criteria or not, not to be influenced by the resume before, or to influence the resume after. "
   ]
  },
  {
   "cell_type": "markdown",
   "metadata": {},
   "source": [
    "# Question 2\n",
    "__What are the null and alternate hypotheses?__"
   ]
  },
  {
   "cell_type": "markdown",
   "metadata": {},
   "source": [
    "The Null Hypothesis: Race does not have a significant effect on the rate of callback for resumes. Or, in other words, and for this case study specifically: \n",
    "\n",
    "H0: The proportion of callback for resumes with 'names that sound black' is equal to the proportion of callback for resumes with 'names that sound white.'\n",
    "\n",
    "The Alternate Hypothesis: Race does have a significant effect on the rate of callback for resumes. Or, in other words: \n",
    "\n",
    "H1: The proportion of callback for resumes with 'names that sound black' is NOT equal to the proportion of callback for resumes with 'names that sound white.'"
   ]
  },
  {
   "cell_type": "markdown",
   "metadata": {},
   "source": [
    "# Question 3\n",
    "__Compute margin of error, confidence interval, and p-value.__"
   ]
  },
  {
   "cell_type": "code",
   "execution_count": 5,
   "metadata": {
    "scrolled": true
   },
   "outputs": [
    {
     "name": "stdout",
     "output_type": "stream",
     "text": [
      "(4870, 65)\n",
      "Index(['id', 'ad', 'education', 'ofjobs', 'yearsexp', 'honors', 'volunteer',\n",
      "       'military', 'empholes', 'occupspecific', 'occupbroad', 'workinschool',\n",
      "       'email', 'computerskills', 'specialskills', 'firstname', 'sex', 'race',\n",
      "       'h', 'l', 'call', 'city', 'kind', 'adid', 'fracblack', 'fracwhite',\n",
      "       'lmedhhinc', 'fracdropout', 'fraccolp', 'linc', 'col', 'expminreq',\n",
      "       'schoolreq', 'eoe', 'parent_sales', 'parent_emp', 'branch_sales',\n",
      "       'branch_emp', 'fed', 'fracblack_empzip', 'fracwhite_empzip',\n",
      "       'lmedhhinc_empzip', 'fracdropout_empzip', 'fraccolp_empzip',\n",
      "       'linc_empzip', 'manager', 'supervisor', 'secretary', 'offsupport',\n",
      "       'salesrep', 'retailsales', 'req', 'expreq', 'comreq', 'educreq',\n",
      "       'compreq', 'orgreq', 'manuf', 'transcom', 'bankreal', 'trade',\n",
      "       'busservice', 'othservice', 'missind', 'ownership'],\n",
      "      dtype='object')\n"
     ]
    }
   ],
   "source": [
    "#PERFORMING QUANTITATIVE EDA \n",
    "print(data.shape)\n",
    "print(data.columns)"
   ]
  },
  {
   "cell_type": "code",
   "execution_count": 6,
   "metadata": {
    "scrolled": true
   },
   "outputs": [
    {
     "name": "stdout",
     "output_type": "stream",
     "text": [
      "0    w\n",
      "1    w\n",
      "2    b\n",
      "3    b\n",
      "4    w\n",
      "5    w\n",
      "6    w\n",
      "7    b\n",
      "8    b\n",
      "9    b\n",
      "Name: race, dtype: object\n"
     ]
    }
   ],
   "source": [
    "#we are only interested in the 'race' and 'call' columns for this particular experiment\n",
    "print(data['race'].head(10))"
   ]
  },
  {
   "cell_type": "code",
   "execution_count": 7,
   "metadata": {},
   "outputs": [
    {
     "name": "stdout",
     "output_type": "stream",
     "text": [
      "2435\n",
      "2435\n",
      "235.0\n",
      "157.0\n",
      "White proportion of callbacks: 0.0965092402464\n",
      "Black proportion of callbacks: 0.064476386037\n",
      "The pooled proportion is: 0.0804928131417\n"
     ]
    }
   ],
   "source": [
    "resume_white = data[data.race == 'w']\n",
    "total_white = resume_white.shape[0]\n",
    "resume_black = data[data.race == 'b']\n",
    "total_black = resume_black.shape[0]\n",
    "\n",
    "print(total_white)\n",
    "print(total_black)\n",
    "\n",
    "white_call = sum(data[data.race == 'w'].call)\n",
    "print(white_call)\n",
    "black_call = sum(data[data.race == 'b'].call)\n",
    "print(black_call)\n",
    "\n",
    "white_proportion = white_call/total_white\n",
    "black_proportion = black_call/total_black\n",
    "pool_proportion = (white_call + black_call)/(total_white + total_black)\n",
    "print('White proportion of callbacks: ' + str(white_proportion) + '\\nBlack proportion of callbacks: ' + str(black_proportion))\n",
    "print('The pooled proportion is: ' + str(pool_proportion))"
   ]
  },
  {
   "cell_type": "code",
   "execution_count": 8,
   "metadata": {},
   "outputs": [
    {
     "name": "stdout",
     "output_type": "stream",
     "text": [
      "The margin of error is : 0.0152819123109\n"
     ]
    }
   ],
   "source": [
    "#margin of error for 2 proportions calculation:\n",
    "proportion_MoE = 1.96* np.sqrt(pool_proportion*(1-pool_proportion)*(1/total_white + 1/total_black))\n",
    "print('The margin of error is : ' + str(proportion_MoE))"
   ]
  },
  {
   "cell_type": "code",
   "execution_count": 9,
   "metadata": {},
   "outputs": [
    {
     "name": "stdout",
     "output_type": "stream",
     "text": [
      "The confidence interval is: (0.0167509418986,0.0473147665203)\n"
     ]
    }
   ],
   "source": [
    "#confidence interval calculation for 2 proportions test:\n",
    "prop_conf_lb = (white_proportion - black_proportion) - proportion_MoE\n",
    "prop_conf_ub = (white_proportion - black_proportion) + proportion_MoE\n",
    "print('The confidence interval is: (' + str(prop_conf_lb) + ',' + str(prop_conf_ub) + ')')\n",
    "#note that this too is close but not identical to the 2 sample z test calculation. "
   ]
  },
  {
   "cell_type": "code",
   "execution_count": 10,
   "metadata": {},
   "outputs": [
    {
     "name": "stdout",
     "output_type": "stream",
     "text": [
      "The z-value of the 2 proportion test is: 4.10841215243\n"
     ]
    }
   ],
   "source": [
    "#finally, to check the z-value using the 2 proportion z test\n",
    "prop_z_val = (white_proportion - black_proportion)/ np.sqrt(pool_proportion*(1-pool_proportion)*(1/total_white + 1/total_black))\n",
    "print('The z-value of the 2 proportion test is: ' + str(prop_z_val))"
   ]
  },
  {
   "cell_type": "code",
   "execution_count": 11,
   "metadata": {},
   "outputs": [
    {
     "name": "stdout",
     "output_type": "stream",
     "text": [
      "2 proportion z-test p-val: 3.98388683759e-05\n"
     ]
    }
   ],
   "source": [
    "#p-value calculation\n",
    "from scipy.stats import norm\n",
    "p_value_2props = scipy.stats.norm.sf(abs(prop_z_val))*2\n",
    "print('2 proportion z-test p-val: ' + str(p_value_2props))"
   ]
  },
  {
   "cell_type": "markdown",
   "metadata": {},
   "source": [
    "# Question 4 Write a story describing the statistical significance in the context or the original problem.\n",
    "Confidence Interval: (0.0167509418986,0.0473147665203) based on this sample of data, we are 95% certain that the true mean difference between black and white callback success rates is between 1.675% to 4.731%. Keep in mind, the black mean callback was only 6.45% and the white was 9.65%, so this confidence interval represents significant change. In the worst case, for black applicants, 6.45% - 4.731% is 1.719%, which is a dramatic -73.35% change. At best, the percent change from 6.45% to 4.775% is a - 26% change. In other words, based on this data, we are 95% certain that the true mean percent change for having a black sounding name rather than a white sounding name in getting callback success is between -26% and -73.35%. The data suggests that if you put a black sounding name on a resume there is a 95% chance you will experience at least a -26% chance and at most a -73.35% change in chance to get a call back for an interview. \n",
    "\n",
    "Z-Value and P-Test: The z-value was calculated as 4.108, which greatly exceeds the critical z-value of 1.96. Practically speaking, when we accept as reality that black and white interview callback success rates are the same, the observed data is 4.108 deviations away from that norm. The chance for that to happen is .003984%, which is extremely unlikely and therefore we can reject the null hypothesis under 95% certainty. Unfortunately, this data supports the claim that there are significant signs of racial prejudice by hiring managers. Perhaps this is because they are reading the applications behind a computer screen, and not face to face with their applicant, making it easier to decline an applicant because it is less personal."
   ]
  },
  {
   "cell_type": "markdown",
   "metadata": {},
   "source": [
    "# Question 5: Does your analysis mean that race/name is the most important factor in callback success? Why or why not? If not, how would you amend your analysis?"
   ]
  },
  {
   "cell_type": "markdown",
   "metadata": {},
   "source": [
    "My analysis does not mean that race/name is the most important factor in callback success because there are also many other factors at play. For example, a \"black sounding name\" on a resume with a PhD has undoubtedly drastically increased qualifications over a resume with a bachelor's. I believe that first, the qualifications must be met, then the race may play a factor once there are two or more applicants who are similar in qualifications (assuming a racist hiring manager). If the qualifications are handily met by an applicant, race would probably not play a big role in their hiring besides in cases of extreme racism. I would like to see an analysis breaking down regionally where the \"black name resumes\" were declined most significantly on a heat map. That would add a layer of depth to explore the root of the racial discrimination within our nation. \n",
    "\n",
    "Another amendment to the analysis could be to use pictures instead of names (as explained above in Q4). It would be very interesting to see if showing applicant pictures, revealing their race, would have similar results as using different sounding names. I would argue that if hiring managers were to see a picture of the person, assuming the person looks professional, that the effects of racism would decrease. I believe when they see a \"black sounding name\" the hiring manager makes a falsely conjured imagine in his/her mind of what the person may look like or act like. Using a profile picture would dispel that illusion, if it is there to begin with. "
   ]
  },
  {
   "cell_type": "code",
   "execution_count": null,
   "metadata": {
    "collapsed": true
   },
   "outputs": [],
   "source": []
  }
 ],
 "metadata": {
  "kernelspec": {
   "display_name": "Python 3",
   "language": "python",
   "name": "python3"
  },
  "language_info": {
   "codemirror_mode": {
    "name": "ipython",
    "version": 3
   },
   "file_extension": ".py",
   "mimetype": "text/x-python",
   "name": "python",
   "nbconvert_exporter": "python",
   "pygments_lexer": "ipython3",
   "version": "3.6.3"
  }
 },
 "nbformat": 4,
 "nbformat_minor": 1
}
