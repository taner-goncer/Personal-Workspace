{
 "cells": [
  {
   "cell_type": "markdown",
   "metadata": {},
   "source": [
    "# What is the True Normal Human Body Temperature? \n",
    "\n",
    "#### Background\n",
    "\n",
    "The mean normal body temperature was held to be 37$^{\\circ}$C or 98.6$^{\\circ}$F for more than 120 years since it was first conceptualized and reported by Carl Wunderlich in a famous 1868 book. But, is this value statistically correct?"
   ]
  },
  {
   "cell_type": "markdown",
   "metadata": {},
   "source": [
    "<h3>Exercises</h3>\n",
    "\n",
    "<p>In this exercise, you will analyze a dataset of human body temperatures and employ the concepts of hypothesis testing, confidence intervals, and statistical significance.</p>\n",
    "\n",
    "<p>Answer the following questions <b>in this notebook below and submit to your Github account</b>.</p> \n",
    "\n",
    "<ol>\n",
    "<li>  Is the distribution of body temperatures normal? \n",
    "    <ul>\n",
    "    <li> Although this is not a requirement for CLT to hold (read CLT carefully), it gives us some peace of mind that the population may also be normally distributed if we assume that this sample is representative of the population.\n",
    "    </ul>\n",
    "<li>  Is the sample size large? Are the observations independent?\n",
    "    <ul>\n",
    "    <li> Remember that this is a condition for the CLT, and hence the statistical tests we are using, to apply.\n",
    "    </ul>\n",
    "<li>  Is the true population mean really 98.6 degrees F?\n",
    "    <ul>\n",
    "    <li> Would you use a one-sample or two-sample test? Why?\n",
    "    <li> In this situation, is it appropriate to use the $t$ or $z$ statistic? \n",
    "    <li> Now try using the other test. How is the result be different? Why?\n",
    "    </ul>\n",
    "<li>  Draw a small sample of size 10 from the data and repeat both tests. \n",
    "    <ul>\n",
    "    <li> Which one is the correct one to use? \n",
    "    <li> What do you notice? What does this tell you about the difference in application of the $t$ and $z$ statistic?\n",
    "    </ul>\n",
    "<li>  At what temperature should we consider someone's temperature to be \"abnormal\"?\n",
    "    <ul>\n",
    "    <li> Start by computing the margin of error and confidence interval.\n",
    "    </ul>\n",
    "<li>  Is there a significant difference between males and females in normal temperature?\n",
    "    <ul>\n",
    "    <li> What test did you use and why?\n",
    "    <li> Write a story with your conclusion in the context of the original problem.\n",
    "    </ul>\n",
    "</ol>\n",
    "\n",
    "You can include written notes in notebook cells using Markdown: \n",
    "   - In the control panel at the top, choose Cell > Cell Type > Markdown\n",
    "   - Markdown syntax: http://nestacms.com/docs/creating-content/markdown-cheat-sheet\n",
    "\n",
    "#### Resources\n",
    "\n",
    "+ Information and data sources: http://www.amstat.org/publications/jse/datasets/normtemp.txt, http://www.amstat.org/publications/jse/jse_data_archive.htm\n",
    "+ Markdown syntax: http://nestacms.com/docs/creating-content/markdown-cheat-sheet\n",
    "\n",
    "****"
   ]
  },
  {
   "cell_type": "code",
   "execution_count": 1,
   "metadata": {
    "scrolled": true
   },
   "outputs": [
    {
     "name": "stdout",
     "output_type": "stream",
     "text": [
      "     temperature gender  heart_rate\n",
      "0           99.3      F        68.0\n",
      "1           98.4      F        81.0\n",
      "2           97.8      M        73.0\n",
      "3           99.2      F        66.0\n",
      "4           98.0      F        73.0\n",
      "5           99.2      M        83.0\n",
      "6           98.0      M        71.0\n",
      "7           98.8      M        78.0\n",
      "8           98.4      F        84.0\n",
      "9           98.6      F        86.0\n",
      "10          98.8      F        89.0\n",
      "11          96.7      F        62.0\n",
      "12          98.2      M        72.0\n",
      "13          98.7      F        79.0\n",
      "14          97.8      F        77.0\n",
      "15          98.8      F        83.0\n",
      "16          98.3      F        79.0\n",
      "17          98.2      M        64.0\n",
      "18          97.2      F        68.0\n",
      "19          99.4      M        70.0\n",
      "20          98.3      F        78.0\n",
      "21          98.2      M        71.0\n",
      "22          98.6      M        70.0\n",
      "23          98.4      M        68.0\n",
      "24          97.8      M        65.0\n",
      "25          98.0      F        87.0\n",
      "26          97.8      F        62.0\n",
      "27          98.2      F        69.0\n",
      "28          98.4      F        73.0\n",
      "29          98.1      M        67.0\n",
      "..           ...    ...         ...\n",
      "100         99.0      M        81.0\n",
      "101         98.5      M        68.0\n",
      "102         98.0      F        78.0\n",
      "103         99.4      F        77.0\n",
      "104         97.6      M        69.0\n",
      "105         96.7      M        71.0\n",
      "106         97.0      M        80.0\n",
      "107         98.6      M        66.0\n",
      "108         98.7      F        72.0\n",
      "109         97.3      M        69.0\n",
      "110         98.8      F        69.0\n",
      "111         98.0      F        89.0\n",
      "112         98.2      F        64.0\n",
      "113         99.1      F        74.0\n",
      "114         99.0      M        79.0\n",
      "115         98.0      M        64.0\n",
      "116        100.8      F        77.0\n",
      "117         97.8      F        71.0\n",
      "118         98.7      M        78.0\n",
      "119         98.4      F        74.0\n",
      "120         97.7      F        84.0\n",
      "121         97.9      F        68.0\n",
      "122         99.0      F        81.0\n",
      "123         97.2      F        66.0\n",
      "124         97.5      M        75.0\n",
      "125         96.3      M        70.0\n",
      "126         97.7      M        77.0\n",
      "127         98.2      F        73.0\n",
      "128         97.9      M        72.0\n",
      "129         98.7      F        59.0\n",
      "\n",
      "[130 rows x 3 columns]\n"
     ]
    }
   ],
   "source": [
    "import pandas as pd\n",
    "\n",
    "df = pd.read_csv('data/human_body_temperature.csv')\n",
    "#starting by converting this dataset to a dataframe so we can pull columns of data from it for EDA\n",
    "df = pd.DataFrame(df)\n",
    "print(df)"
   ]
  },
  {
   "cell_type": "markdown",
   "metadata": {},
   "source": [
    "# Question 1"
   ]
  },
  {
   "cell_type": "code",
   "execution_count": 13,
   "metadata": {},
   "outputs": [
    {
     "data": {
      "image/png": "[encoded data removed]",
      "text/plain": [
       "<matplotlib.figure.Figure at 0x1baf3b21c50>"
      ]
     },
     "metadata": {},
     "output_type": "display_data"
    },
    {
     "data": {
      "image/png": "[encoded data removed]",
      "text/plain": [
       "<matplotlib.figure.Figure at 0x1baf3b54c18>"
      ]
     },
     "metadata": {},
     "output_type": "display_data"
    },
    {
     "name": "stdout",
     "output_type": "stream",
     "text": [
      "NormaltestResult(statistic=2.7038014333192031, pvalue=0.2587479863488254)\n"
     ]
    }
   ],
   "source": [
    "#Now in order to answer Question 1: Is the distribution of body temperatures normal?\n",
    "#We will need to plot it out using a histogram.\n",
    "import matplotlib.pyplot as plt\n",
    "import scipy.stats as stats\n",
    "\n",
    "#Method 1, most rudimentary, simply plotting and eye-balling the graph to see if it looks \"normal\"\n",
    "plt.hist('temperature', data = df)\n",
    "plt.xlabel('Body Temperature in F')\n",
    "plt.ylabel('Number Observed')\n",
    "plt.show()\n",
    "\n",
    "#Method 2, using a more sophisticated plot to see if the quantile values line up with the theoretical quantile values of normal distribution.\n",
    "plt.close()\n",
    "stats.probplot(df['temperature'], dist = 'norm', plot = plt)\n",
    "plt.show()\n",
    "\n",
    "#Method 3, using scipy stats, normal test to get a p-value from a 2-sided, chi squared probability for hypothesis test\n",
    "#Null hypothesis: Sample comes from a normal distribution. \n",
    "norm_test = stats.normaltest(df['temperature'])\n",
    "print(norm_test)\n"
   ]
  },
  {
   "cell_type": "markdown",
   "metadata": {},
   "source": [
    "Looking at Method 1: we have a histogram of the data, which does resemble a normal distribution except with a slight left skew. \n",
    "\n",
    "Looking at Method 2: we can more clearly see that the data does follow a normal distribution with only a few points going off the theoretical line. \n",
    "\n",
    "Looking at Method 3: Our test statistic is 2.703, and our p-value is .2587. In order to reject the null hypothesis that the sample comes from a normal distribution, we would need to have p-value be greater than 2.703 or less than -2.703, which it is not. Therefore we cannot reject the null hypothesis that the sample comes from a normal distribution."
   ]
  },
  {
   "cell_type": "markdown",
   "metadata": {},
   "source": [
    "# Question 2"
   ]
  },
  {
   "cell_type": "markdown",
   "metadata": {},
   "source": [
    "Now on to question 2: Is the sample size large? Are the observations independent?\n",
    "\n",
    "Yes, the sample size passes the sufficiently large size which is n = 30 + and the observations are all independent as they are different people."
   ]
  },
  {
   "cell_type": "markdown",
   "metadata": {},
   "source": [
    "# Question 3"
   ]
  },
  {
   "cell_type": "markdown",
   "metadata": {},
   "source": [
    "Is the true population mean really 98.6 degrees F?\n",
    "    a) Would you use a one-sample or two-sample test? Why?\n",
    "    b) In this situation, is it appropriate to use the  t  or  z  statistic?\n",
    "    c) Now try using the other test. How is the result be different? Why?"
   ]
  },
  {
   "cell_type": "code",
   "execution_count": 14,
   "metadata": {},
   "outputs": [
    {
     "name": "stdout",
     "output_type": "stream",
     "text": [
      "sample mean: 98.24923076923078 sample stdev: 0.7303577789050377 sample size: 130\n",
      "the Z statistic value is: -5.47592520208\n"
     ]
    }
   ],
   "source": [
    "#To answer Question 3:\n",
    "#We will use the Z-Test statistic. Is there a pythonic way to do all of this? I am basically using python as a calculator here.\n",
    "import numpy as np\n",
    "sample_mean = np.mean(df['temperature'])\n",
    "sample_std = np.std(df['temperature'])\n",
    "sample_n = len(df['temperature'])\n",
    "print('sample mean: ' + str(sample_mean) + ' sample stdev: ' + str(sample_std) + ' sample size: ' + str(sample_n))\n",
    "\n",
    "standard_err = sample_std/np.sqrt(sample_n)\n",
    "z_stat = (sample_mean - 98.6)/standard_err\n",
    "print('the Z statistic value is: ' + str(z_stat))"
   ]
  },
  {
   "cell_type": "markdown",
   "metadata": {},
   "source": [
    "The results above show that the critical Z-value is -5.475, which is in the rejection region because it is less than -1.96, which allows us to reject the null hypothesis that the true population mean is 98.6 based on this set of 130 data we have here.\n",
    "\n",
    "a) We used a one sample test because we are only comparing one data set to a proposed true mean value, not two data sets against each other.\n",
    "\n",
    "b) In this situation, it is appropriate to use the z-statistic because our sample size is large(greater than 30).\n",
    "\n",
    "c)t = +/-1.979 is the test statistic critical value, so it does not change the results. I don't understand this - we can't use a t-test we don't have access to the population standard deviation. This does not make sense. And we did not cover any of this material in the springboard cirriculum for any of this."
   ]
  },
  {
   "cell_type": "markdown",
   "metadata": {},
   "source": [
    "# Question 4\n",
    "Draw a small sample of size 10 from the data and repeat both tests.\n",
    "Which one is the correct one to use?\n",
    "What do you notice? What does this tell you about the difference in application of the  t  and  z statistic?"
   ]
  },
  {
   "cell_type": "code",
   "execution_count": 25,
   "metadata": {},
   "outputs": [
    {
     "name": "stdout",
     "output_type": "stream",
     "text": [
      "[ 97.4  99.4  97.2  98.6  98.7  98.   97.8  98.5  97.2  98.1]\n"
     ]
    }
   ],
   "source": [
    "rand_set = np.random.choice(df['temperature'], size = 10)\n",
    "print(rand_set)"
   ]
  },
  {
   "cell_type": "markdown",
   "metadata": {},
   "source": [
    "The correct statistic to use right now is the t-statistic because our sample size is only 10. But let us move forward by using both statistics"
   ]
  },
  {
   "cell_type": "code",
   "execution_count": 26,
   "metadata": {},
   "outputs": [
    {
     "name": "stdout",
     "output_type": "stream",
     "text": [
      "sample mean: 98.09 sample stdev: 0.683300812234 sample size: 10\n",
      "the z-statistic value is -2.36025126534\n"
     ]
    }
   ],
   "source": [
    "#Doing Z-statistic first... with alpha = 0.05\n",
    "sample_n = 10\n",
    "sample_mean = np.mean(rand_set)\n",
    "sample_std = np.std(rand_set)\n",
    "standard_err = sample_std/np.sqrt(sample_n)\n",
    "print('sample mean: ' + str(sample_mean) + ' sample stdev: ' + str(sample_std) + ' sample size: ' + str(sample_n))\n",
    "#now to find the Z-statistic, which needs to be greater than 1.96 or less than -1.96 to reject null hypothesis\n",
    "z_stat = (sample_mean - 98.6)/standard_err\n",
    "print('the z-statistic value is ' + str(z_stat))\n",
    "#We would reject the null hypothesis again based on this data set of 10 because z = -2.36 < -1.96"
   ]
  },
  {
   "cell_type": "code",
   "execution_count": 27,
   "metadata": {},
   "outputs": [
    {
     "name": "stdout",
     "output_type": "stream",
     "text": [
      "the t-statistic value is -1.72382787181\n"
     ]
    }
   ],
   "source": [
    "#Doing t-statistic now... with alpha = 0.05\n",
    "pop_std = np.std(df['temperature'])\n",
    "#s = sample std / population std\n",
    "s = sample_std/pop_std\n",
    "standard_err = s/np.sqrt(sample_n)\n",
    "t_stat = (sample_mean - 98.6)/standard_err\n",
    "print('the t-statistic value is ' + str(t_stat))"
   ]
  },
  {
   "cell_type": "markdown",
   "metadata": {},
   "source": [
    "for n = 10, df = 9, p = 0.025, t = 2.26 or -2.26, therefore we got -1.724 which is greater than -2.26, and we cannot reject the null hypothesis.\n",
    "\n",
    "This tells me there is a big difference between the z and t test. We got two different answers for the two tests and the proper one to use is the t-test in this situation, which says we cannot reject the null that 98.6 is the true mean based on my random 10 choice of data."
   ]
  },
  {
   "cell_type": "markdown",
   "metadata": {},
   "source": [
    "# Question 5\n",
    "At what temperature should we consider someone's temperature to be \"abnormal\"?\n",
    "Start by computing the margin of error and confidence interval."
   ]
  },
  {
   "cell_type": "code",
   "execution_count": 28,
   "metadata": {},
   "outputs": [
    {
     "name": "stdout",
     "output_type": "stream",
     "text": [
      "The confidence interval is between: (98.1236798044,98.374781734)\n"
     ]
    }
   ],
   "source": [
    "#calculating pop_mean again\n",
    "pop_mean = np.mean(df['temperature'])\n",
    "#We can calculate the margin of error knowing z(1/2) @ alpha = 0.05 is 1.96:\n",
    "margin_err = 1.96*pop_std/np.sqrt(130)\n",
    "CI_lower = pop_mean - margin_err\n",
    "CI_upper = pop_mean + margin_err\n",
    "print('The confidence interval is between: (' + str(CI_lower) + ',' + str(CI_upper) + ')')"
   ]
  },
  {
   "cell_type": "markdown",
   "metadata": {},
   "source": [
    "According to the calculation above (which is small because we have 130 samples), we should be worried if someone drops below 98.124 or goes above 98.375, which only makes sense based on this data set."
   ]
  },
  {
   "cell_type": "markdown",
   "metadata": {},
   "source": [
    "# Question 6 \n",
    "Is there a significant difference between males and females in normal temperature?\n",
    "What test did you use and why?\n",
    "Write a story with your conclusion in the context of the original problem."
   ]
  },
  {
   "cell_type": "code",
   "execution_count": 29,
   "metadata": {
    "scrolled": true
   },
   "outputs": [
    {
     "name": "stdout",
     "output_type": "stream",
     "text": [
      "The z-statistic is: -2.30322028919\n"
     ]
    }
   ],
   "source": [
    "#The null hypothesis: There is no difference between males and females in normal temperature. \n",
    "#z-value greater than 1.96, less than -1.96 to reject\n",
    "men_sample = df[df['gender'] == 'M']['temperature']\n",
    "women_sample = df[df['gender'] == 'F']['temperature']\n",
    "\n",
    "#calculating men statistics\n",
    "men_mean = np.mean(men_sample)\n",
    "men_std = np.std(men_sample)\n",
    "men_size = len(men_sample)\n",
    "#calculating women statistics\n",
    "women_mean = np.mean(women_sample)\n",
    "women_std = np.std(women_sample)\n",
    "women_size = len(women_sample)\n",
    "\n",
    "standard_err = np.sqrt((men_std**2/men_size) + (women_std**2/women_size))\n",
    "z_stat = (men_mean - women_mean)/ standard_err\n",
    "print('The z-statistic is: ' + str(z_stat))"
   ]
  },
  {
   "cell_type": "markdown",
   "metadata": {},
   "source": [
    "According to the output above, it shows that the z value of -2.303 < -1.96, which is in the rejection region. So based on this data, men and women do not have the same temperature."
   ]
  },
  {
   "cell_type": "code",
   "execution_count": 30,
   "metadata": {},
   "outputs": [
    {
     "name": "stdout",
     "output_type": "stream",
     "text": [
      "0.0212664518301\n"
     ]
    }
   ],
   "source": [
    "import scipy.stats as stats\n",
    "print(stats.norm.cdf(z_stat)*2)"
   ]
  },
  {
   "cell_type": "code",
   "execution_count": null,
   "metadata": {
    "collapsed": true
   },
   "outputs": [],
   "source": []
  }
 ],
 "metadata": {
  "kernelspec": {
   "display_name": "Python 3",
   "language": "python",
   "name": "python3"
  },
  "language_info": {
   "codemirror_mode": {
    "name": "ipython",
    "version": 3
   },
   "file_extension": ".py",
   "mimetype": "text/x-python",
   "name": "python",
   "nbconvert_exporter": "python",
   "pygments_lexer": "ipython3",
   "version": "3.6.3"
  }
 },
 "nbformat": 4,
 "nbformat_minor": 1
}
